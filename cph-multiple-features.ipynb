{
 "cells": [
  {
   "cell_type": "code",
   "execution_count": 1,
   "id": "99e91937",
   "metadata": {},
   "outputs": [],
   "source": [
    "# Import necessary libraries\n",
    "import numpy as np\n",
    "import matplotlib.pyplot as plt\n",
    "import copy\n",
    "import math"
   ]
  },
  {
   "cell_type": "code",
   "execution_count": 2,
   "id": "b345d8d5",
   "metadata": {},
   "outputs": [],
   "source": [
    "# x is the input variable (size m^2 & time it takes to get into the city centre)\n",
    "# division is necessary to avoid overflow errors\n",
    "x_train = np.array([[46,52,63,46],[24,27,13,28]])/10\n",
    "# y is the output (rent/month in DKK)\n",
    "y_train = np.array([9950,11000,10900,11200])/1000\n",
    "\n",
    "\n",
    "x_plot = x_train*10\n",
    "y_plot = y_train*1000"
   ]
  },
  {
   "cell_type": "code",
   "execution_count": 3,
   "id": "fc1c4340",
   "metadata": {},
   "outputs": [
    {
     "name": "stdout",
     "output_type": "stream",
     "text": [
      "Dimensions of X: (4, 2)\n",
      "Our input has 4 training examples and 2 features.\n"
     ]
    }
   ],
   "source": [
    "# Dimensions of input matrix\n",
    "# Transposed, as this is the format we conventionally think of input\n",
    "print(f\"Dimensions of X: {np.transpose((x_train)).shape}\")\n",
    "\n",
    "m = x_train[0].shape[0] #training examples\n",
    "n = x_train.shape[0] #features\n",
    "print(f\"Our input has {m} training examples and {n} features.\")"
   ]
  },
  {
   "cell_type": "code",
   "execution_count": 4,
   "id": "7a722570",
   "metadata": {},
   "outputs": [],
   "source": [
    "# Function to calculate cost ( = error of model)\n",
    "\n",
    "def compute_cost(x, y, theta, b):\n",
    "\n",
    "    total_cost = 0\n",
    "    \n",
    "    for i in range(m): # looping through training examples\n",
    "        h_x = 0 #prediction for one training example\n",
    "        for k in range(n): #looping thorugh features\n",
    "            h_x += theta[k]*x[k][i]\n",
    "\n",
    "        h_x += b\n",
    "        total_cost += ((h_x - y[i]) ** 2)\n",
    "\n",
    "    total_cost /= (2*m)\n",
    "    \n",
    "    return total_cost"
   ]
  },
  {
   "cell_type": "code",
   "execution_count": 5,
   "id": "3b02d887-308e-4c57-ae05-01d8a7bafca8",
   "metadata": {},
   "outputs": [
    {
     "name": "stdout",
     "output_type": "stream",
     "text": [
      "The cost of our own prediction: 0.05\n"
     ]
    }
   ],
   "source": [
    "# Calculating accuracy based on parameters. For testing purposes.\n",
    "# Remember to update in case of adding features\n",
    "theta = [1.32,1.44]\n",
    "b = 0.6\n",
    "print(f\"The cost of our own prediction: {compute_cost(x_train,y_train,theta,b):.2f}\")"
   ]
  },
  {
   "cell_type": "code",
   "execution_count": 6,
   "id": "110f4a95",
   "metadata": {},
   "outputs": [],
   "source": [
    "# To find optimum point, we firstly have to find gradient\n",
    "\n",
    "def compute_gradient(x, y, theta, b):\n",
    "\n",
    "    # partial derivatives\n",
    "    dj_dtheta = np.zeros(n,dtype=np.longdouble) \n",
    "    dj_db = 0\n",
    "\n",
    "    for i in range(m): \n",
    "        h_x = 0\n",
    "        for k in range(n): #calculating prediction for one training example\n",
    "            h_x += theta[k]*x[k][i]\n",
    "            \n",
    "        h_x += b\n",
    "        for l in range(n): # another loop through features to calculate dJ / dTheta_j, where j a feature\n",
    "            dj_dtheta[l] += (h_x - y[i]) * x[l][i]\n",
    "            \n",
    "        dj_db += h_x - y[i]\n",
    "            \n",
    " \n",
    "    dj_dtheta = dj_dtheta / m\n",
    "    dj_db /= m\n",
    "    \n",
    "    return dj_dtheta, dj_db"
   ]
  },
  {
   "cell_type": "code",
   "execution_count": 7,
   "id": "7e778255",
   "metadata": {},
   "outputs": [],
   "source": [
    "def gradient_descent(x, y, theta_in, b_in, alpha, iters):\n",
    "    \n",
    "    # Cost history for later visualization\n",
    "    cost_history = []\n",
    "\n",
    "    # Each iteration updates the parameters\n",
    "    for i in range(iters):\n",
    "        dj_dtheta, dj_db = compute_gradient(x,y,theta_in,b_in)\n",
    "\n",
    "        theta_in -= alpha*dj_dtheta\n",
    "        b_in -= alpha*dj_db\n",
    "\n",
    "        # Creating cost history but avoiding too much data\n",
    "        if i < 100000:\n",
    "            cost_history.append(compute_cost(x,y,theta_in,b_in))\n",
    "        \n",
    "    return theta_in, b_in, cost_history"
   ]
  },
  {
   "cell_type": "code",
   "execution_count": 8,
   "id": "3e438aa1",
   "metadata": {},
   "outputs": [
    {
     "name": "stdout",
     "output_type": "stream",
     "text": [
      "(theta,b) found by gradient descent: ([1.3211182  1.44491342],  0.5996)\n",
      "Our final cost: 0.05163115331858713\n"
     ]
    }
   ],
   "source": [
    "# initialize parameters\n",
    "theta_init = np.zeros(n)\n",
    "b_init = 0\n",
    "# setting gradient descent iteration & step size\n",
    "iterations = 5000\n",
    "it_array = np.arange(0,iterations)\n",
    "tmp_alpha = 1.4e-2\n",
    "# run gradient descent\n",
    "theta_final, b_final, J_hist = gradient_descent(x_train ,y_train, theta_init, b_init, tmp_alpha, iterations)\n",
    "print(f\"(theta,b) found by gradient descent: ({theta_final},{b_final:8.4f})\")\n",
    "print(f\"Our final cost: {J_hist[iterations-1]}\")"
   ]
  },
  {
   "cell_type": "code",
   "execution_count": 9,
   "id": "bc61cd76-780c-4c8b-900e-24db0f096cca",
   "metadata": {},
   "outputs": [
    {
     "data": {
      "image/png": "[encoded data removed]",
      "text/plain": [
       "<Figure size 640x480 with 1 Axes>"
      ]
     },
     "metadata": {},
     "output_type": "display_data"
    }
   ],
   "source": [
    "# Plotting cost history\n",
    "# Set max cost we are satisifed with\n",
    "max_cost = 4\n",
    "# First index where cost reaches our value\n",
    "treshold = np.where(np.array(J_hist) <= max_cost)[0][0]\n",
    "\n",
    "plt.plot(it_array, J_hist, linestyle='-', color='blue', label='Cost')\n",
    "plt.xlabel(\"Iterations\")\n",
    "plt.ylabel(\"Cost\")\n",
    "plt.title(\"History of model's accuracy\")\n",
    "\n",
    "plt.xlim(left=treshold,right=iterations-1)\n",
    "plt.ylim(0,max_cost)\n",
    "\n",
    "plt.legend()\n",
    "plt.show()"
   ]
  },
  {
   "cell_type": "code",
   "execution_count": null,
   "id": "b13bc5ae-a8cc-4747-b008-31b2837ec31b",
   "metadata": {},
   "outputs": [],
   "source": [
    "# Testing our model\n",
    "size_test = int(input(\"Size in m^2 of apartment: \"))\n",
    "size_test /= 10\n",
    "time_test = int(input(\"Minutes to get into centre: \"))\n",
    "time_test /= 10\n",
    "\n",
    "array_test = np.array([size_test, time_test])"
   ]
  },
  {
   "cell_type": "code",
   "execution_count": null,
   "id": "7edd3c3b-e4b9-489e-96a8-e2a03b5b20a8",
   "metadata": {},
   "outputs": [],
   "source": [
    "price_predicted = 0\n",
    "for e in range(n):\n",
    "    price_predicted += array_test[e]*theta_final[e]\n",
    "price_predicted += b_final\n",
    "print(f\"Predicted rent for given apartment: {(price_predicted*1000):.2f} DKK\")"
   ]
  }
 ],
 "metadata": {
  "kernelspec": {
   "display_name": "Python 3 (ipykernel)",
   "language": "python",
   "name": "python3"
  },
  "language_info": {
   "codemirror_mode": {
    "name": "ipython",
    "version": 3
   },
   "file_extension": ".py",
   "mimetype": "text/x-python",
   "name": "python",
   "nbconvert_exporter": "python",
   "pygments_lexer": "ipython3",
   "version": "3.11.5"
  }
 },
 "nbformat": 4,
 "nbformat_minor": 5
}
